{
 "cells": [
  {
   "cell_type": "markdown",
   "metadata": {},
   "source": [
    "# Cognitive Services Personalizer \n",
    "https://github.com/Azure-Samples/cognitive-services-personalizer-samples"
   ]
  },
  {
   "cell_type": "markdown",
   "metadata": {},
   "source": [
    "In this example, we will use Azure Personalizer Service to predict what Coffee a person (Alice, Bob, Cathy and Dave) prefers given the weather condition and time of day. File \"example.json\" contains their preferred choices of Coffee (set deterministically for the simplicity of this example). We will compare this data with the predictions from the service and generate rewards (0 or 1) based on the match and send it back to the service for training the model.\n",
    "\n",
    "Note that a model is exported every 5 minutes (current default) if you are using the Cognitive Services instance of the Personalizer service, so you need to wait at least until that time has expired then to actually observe some learning in the rewards returned. Exploration is set at 20%.\n",
    "\n",
    "Current implementation calls the Personalizer service through http calls. We will replace this with a python client in the future."
   ]
  },
  {
   "cell_type": "code",
   "execution_count": 1,
   "metadata": {
    "ExecuteTime": {
     "end_time": "2019-05-24T22:29:32.597311Z",
     "start_time": "2019-05-24T22:29:30.129143Z"
    }
   },
   "outputs": [],
   "source": [
    "import json\n",
    "import matplotlib.pyplot as plt\n",
    "import random \n",
    "import requests\n",
    "import time\n",
    "import uuid"
   ]
  },
  {
   "cell_type": "code",
   "execution_count": 2,
   "metadata": {
    "ExecuteTime": {
     "end_time": "2019-05-24T22:29:37.446320Z",
     "start_time": "2019-05-24T22:29:37.443323Z"
    }
   },
   "outputs": [],
   "source": [
    "# Replace 'personalization_base_url' and 'subscription_key' with your valid endpoint values.\n",
    "endpoint = \"https://westus2.api.cognitive.microsoft.com/\"\n",
    "personalization_base_url = endpoint # \"http://localhost:5000\"\n",
    "subscription_key = \"3a1ab38574454951a75eb7c9abfdd924\" "
   ]
  },
  {
   "cell_type": "code",
   "execution_count": 3,
   "metadata": {
    "ExecuteTime": {
     "end_time": "2019-05-24T22:29:42.564786Z",
     "start_time": "2019-05-24T22:29:42.546787Z"
    },
    "scrolled": true
   },
   "outputs": [],
   "source": [
    "personalization_rank_url = personalization_base_url + \"/personalizer/v1.0/rank\"\n",
    "personalization_reward_url = personalization_base_url + \"/personalizer/v1.0/events/\" #add \"{eventId}/reward\"\n",
    "headers = {'Ocp-Apim-Subscription-Key' : subscription_key, 'Content-Type': 'application/json'}\n",
    "\n",
    "examplepath = \"example.json\"\n",
    "requestpath = \"rankrequest.json\"\n",
    "actionfeaturespath = \"actionfeatures.json\"\n",
    "\n",
    "random.seed(time.time())\n",
    "\n",
    "userpref = None \n",
    "rankactionsjsonobj = None \n",
    "actionfeaturesobj = None\n",
    "\n",
    "with open(examplepath) as handle:\n",
    "    userpref = json.loads(handle.read())\n",
    "\n",
    "with open(requestpath) as handle:\n",
    "    rankactionsjsonobj = json.loads(handle.read())  \n",
    "    \n",
    "with open(actionfeaturespath) as handle:\n",
    "    actionfeaturesobj = json.loads(handle.read())"
   ]
  },
  {
   "cell_type": "code",
   "execution_count": 4,
   "metadata": {
    "ExecuteTime": {
     "end_time": "2019-05-24T22:29:44.885362Z",
     "start_time": "2019-05-24T22:29:44.882360Z"
    }
   },
   "outputs": [],
   "source": [
    "def get_reward_from_simulated_data(name, weather, timeofday, prediction):\n",
    "    if(userpref[name][weather][timeofday] == str(prediction)):\n",
    "        return 1 \n",
    "    return 0"
   ]
  },
  {
   "cell_type": "code",
   "execution_count": 5,
   "metadata": {
    "ExecuteTime": {
     "end_time": "2019-05-24T22:29:45.726134Z",
     "start_time": "2019-05-24T22:29:45.722138Z"
    }
   },
   "outputs": [],
   "source": [
    "def add_event_id(rankjsonobj):\n",
    "    eventid = uuid.uuid4().hex\n",
    "    rankjsonobj[\"eventId\"] = eventid\n",
    "    return eventid"
   ]
  },
  {
   "cell_type": "code",
   "execution_count": 6,
   "metadata": {
    "ExecuteTime": {
     "end_time": "2019-05-24T22:29:46.439402Z",
     "start_time": "2019-05-24T22:29:46.434400Z"
    }
   },
   "outputs": [],
   "source": [
    "def add_random_user_and_contextfeatures(namesoption, weatheropt, timeofdayopt, rankjsonobj):   \n",
    "    name = namesopt[random.randint(0,3)]\n",
    "    weather = weatheropt[random.randint(0,2)]\n",
    "    timeofday = timeofdayopt[random.randint(0,2)]\n",
    "    rankjsonobj['contextFeatures'] = [{'timeofday': timeofday, 'weather': weather, 'name': name}]\n",
    "    return [name, weather, timeofday]"
   ]
  },
  {
   "cell_type": "code",
   "execution_count": 7,
   "metadata": {
    "ExecuteTime": {
     "end_time": "2019-05-24T22:29:47.501939Z",
     "start_time": "2019-05-24T22:29:47.497944Z"
    }
   },
   "outputs": [],
   "source": [
    "def add_action_features(rankjsonobj):\n",
    "    rankjsonobj[\"actions\"] = actionfeaturesobj"
   ]
  },
  {
   "cell_type": "code",
   "execution_count": 22,
   "metadata": {
    "ExecuteTime": {
     "end_time": "2019-05-24T22:45:11.659740Z",
     "start_time": "2019-05-24T22:45:11.654740Z"
    }
   },
   "outputs": [],
   "source": [
    "def summary_context(c_vector):\n",
    "    first_ltr = [str(k[0]) for k in c_vector]\n",
    "    return ''.join(first_ltr)"
   ]
  },
  {
   "cell_type": "code",
   "execution_count": 24,
   "metadata": {
    "ExecuteTime": {
     "end_time": "2019-05-24T22:46:07.772233Z",
     "start_time": "2019-05-24T22:46:07.766238Z"
    }
   },
   "outputs": [
    {
     "data": {
      "text/plain": [
       "'CSA'"
      ]
     },
     "execution_count": 24,
     "metadata": {},
     "output_type": "execute_result"
    }
   ],
   "source": [
    "xc = add_random_user_and_contextfeatures(namesopt, weatheropt, timeofdayopt, rankjsonobj)\n",
    "summary_context(xc)"
   ]
  },
  {
   "cell_type": "code",
   "execution_count": 25,
   "metadata": {
    "ExecuteTime": {
     "end_time": "2019-05-24T22:50:43.298655Z",
     "start_time": "2019-05-24T22:48:17.271387Z"
    }
   },
   "outputs": [
    {
     "name": "stdout",
     "output_type": "stream",
     "text": [
      "CRM : 1 DSM : 0 DSM : 1 ARA : 0 BSE : 0 ASA : 1 BSE : 0 BSM : 1 CSE : 1 ASA : 0 CSM : 0 CSM : 0 DSA : 0 CSM : 0 CSE : 1 BSA : 0 ARM : 0 ASA : 0 DSM : 1 BSA : 0 ASM : 0 ASE : 1 DSE : 1 DSE : 1 DSA : 1 CSE : 1 DSE : 1 DRE : 0 DSE : 1 ASM : 1 BSA : 0 BSM : 0 ASM : 0 CSM : 0 BSA : 0 BSE : 0 BRA : 0 CSM : 0 ASA : 1 CSE : 0 CRE : 0 ASA : 0 BSA : 0 CSA : 0 BSE : 0 DSM : 0 ASA : 0 BSA : 0 BSM : 1 ASM : 0 DSM : 0 CSE : 1 ASA : 0 ASE : 0 CRM : 1 BRM : 0 DSA : 0 ASE : 0 DSA : 1 BRA : 0 ASE : 0 BRM : 0 ASA : 1 CSE : 1 CSM : 0 CSA : 0 BSE : 0 DSE : 0 ASA : 0 DSA : 0 ASA : 1 CSA : 0 CSM : 0 DSA : 1 BSA : 0 CSA : 0 CRA : 0 ARA : 0 CSM : 0 ASE : 0 ASA : 0 BSA : 0 DSE : 1 CSM : 0 ARE : 0 BSE : 0 DSM : 1 CSE : 1 BSA : 0 DSA : 0 BRA : 0 CSA : 0 DSA : 0 ASE : 1 BRE : 0 DSM : 0 ASM : 1 DSM : 1 BRA : 0 DSA : 1 ARM : 0 DRM : 0 CSE : 1 BRA : 0 ASA : 0 ASE : 0 BSA : 0 CRA : 0 DSE : 1 ASE : 0 CRA : 0 CSE : 1 ASE : 1 CSM : 0 BSM : 1 DSA : 1 CSM : 0 CSM : 0 ASA : 1 DSE : 0 BRA : 0 ARA : 1 BSA : 0 CRE : 0 ASA : 1 CSE : 0 DSA : 0 ASA : 0 BSM : 0 CRM : 1 CSE : 1 DRM : 0 ARA : 1 BRM : 0 ASE : 0 CSE : 0 BSA : 0 CRM : 1 CSE : 1 ASA : 0 BRM : 0 ASM : 1 CSE : 1 ARA : 1 BRM : 0 BSE : 0 DSE : 1 ASM : 0 ASM : 1 ASE : 0 BSA : 0 BRA : 0 BRE : 0 CRE : 0 CSA : 0 CRM : 1 DRE : 0 DSA : 0 ARM : 0 DRA : 0 CRM : 1 ASE : 0 DSM : 0 BSE : 0 DSM : 1 ARE : 0 DSA : 0 BRA : 0 ARE : 0 CRM : 1 ARM : 0 BSM : 1 DSA : 0 ASE : 0 DRA : 0 DRE : 0 BSE : 1 BSA : 0 CRE : 0 BSM : 0 BRA : 1 BSE : 0 ARE : 0 CSM : 0 ARA : 1 DSA : 0 CSA : 0 BRM : 0 CSA : 0 CRE : 0 DSM : 0 ARE : 0 BSM : 0 BSA : 0 BSA : 0 DRE : 0 BSA : 0 BSA : 1 ARA : 1 DRE : 0 DRA : 0 BSM : 1 CSM : 0 BSM : 1 DSE : 0 CRM : 1 ASE : 0 DRM : 0 DRA : 0 BSA : 1 BRA : 0 BSA : 1 ARE : 0 ARA : 1 BSE : 0 ASM : 1 CSA : 0 DSA : 1 CRE : 0 BSM : 1 ASE : 0 DSA : 1 CRM : 1 CSA : 0 CSM : 0 DRA : 0 CSA : 0 ARM : 0 BSA : 0 BSE : 0 ASE : 0 BSM : 1 CSE : 0 CRE : 0 BSA : 0 CSE : 1 CSE : 1 DSA : 1 DSM : 1 DSE : 1 BRM : 0 ASM : 0 BSA : 0 ASE : 1 DSM : 1 CRM : 1 DSE : 0 DSM : 1 CSE : 0 BSA : 1 BRM : 0 DSM : 0 DRE : 0 CRE : 0 ARM : 0 ASM : 0 CSE : 0 DSM : 1 ASE : 1 DRM : 0 ARE : 0 ARA : 1 CRM : 1 BRE : 0 ASA : 0 DRA : 0 ASM : 0 BRM : 0 CRA : 0 ARE : 0 BSE : 0 BSA : 0 ARM : 0 CSM : 0 BRA : 0 ASA : 1 DSA : 1 CSM : 0 DSM : 0 BSM : 1 CRE : 0 CSE : 1 ARE : 0 DRA : 0 DSE : 1 ASM : 1 CSE : 1 DRE : 0 BSE : 0 ASA : 1 DRM : 0 DSA : 1 CSA : 0 BRA : 0 BSA : 0 CRE : 0 BSM : 1 BSE : 0 CSA : 0 ARA : 0 BRE : 0 ARE : 0 BRE : 0 ASA : 0 DRM : 0 DSA : 1 ARE : 0 BRA : 0 BSM : 0 CSE : 1 DRA : 0 DSE : 1 ASE : 0 DSA : 0 DRE : 0 ASE : 1 DSA : 1 ASA : 0 CRM : 0 DSM : 0 CSE : 1 BSM : 0 ARM : 0 BSA : 1 BSE : 0 ARE : 0 BSA : 0 CRA : 0 ASE : 0 ARM : 0 BSA : 0 CSA : 0 BRM : 0 BSA : 0 DRE : 0 CSA : 0 ARM : 0 BSE : 0 BSE : 0 BSE : 0 CSA : 0 DSA : 1 ASE : 1 DRA : 0 ARE : 0 BSA : 0 ASE : 0 CRE : 0 CSM : 0 ASA : 0 DSE : 0 BRM : 0 CRA : 0 ARE : 0 CSA : 0 BSM : 1 BSM : 0 DRA : 1 BSM : 0 CSA : 0 CSA : 1 CSA : 0 BSM : 1 BSE : 0 ASE : 1 CSE : 1 BSM : 1 ASE : 1 BSA : 0 CSM : 0 CRE : 0 CRA : 0 DRM : 0 CSE : 1 BRM : 0 CSA : 0 ASA : 1 BSE : 0 DSE : 0 ASM : 0 DRM : 0 ASM : 0 DRE : 0 ASA : 1 CSE : 1 BSM : 0 ARA : 1 DRM : 0 DSE : 0 DSA : 0 ASE : 0 DRM : 0 DSE : 0 DSM : 0 DSE : 0 BSE : 0 DRA : 0 DRM : 0 DSE : 1 CSA : 0 DSA : 0 DSM : 1 ARM : 0 CSA : 0 BSE : 0 ARA : 1 ARE : 0 CSE : 0 BSA : 0 DSE : 1 ASA : 1 BSE : 0 CRE : 0 CRM : 1 DSM : 0 ARM : 0 BSM : 0 BSA : 0 DRE : 0 BRA : 0 ASM : 0 DRE : 0 CRM : 1 BRE : 0 ARE : 0 DSA : 1 BSE : 0 DSE : 0 ARA : 1 BRE : 0 ASM : 1 BRA : 0 DSM : 0 CRM : 0 BSE : 0 DSE : 1 BSA : 0 DRE : 0 ASM : 0 CRM : 1 DRE : 0 BSE : 0 BSM : 1 ASA : 0 CSM : 0 CSM : 0 DRM : 0 DSE : 0 DSA : 0 DRM : 0 BSM : 1 CRE : 0 CSM : 0 ARE : 0 BRM : 0 DSA : 0 CRM : 1 DRA : 0 CSA : 0 ASM : 0 CRE : 0 DSE : 0 CRM : 1 BSE : 1 BSM : 0 DSM : 1 BSM : 0 BSA : 1 ASM : 0 CRE : 0 DSE : 1 CSA : 0 DSA : 0 BSE : 0 CSM : 0 ARE : 0 BRA : 0 ASA : 1 ASA : 1 ARA : 1 ARA : 0 BSM : 1 BSM : 0 ASM : 1 DSM : 1 ARM : 0 CSE : 0 DSA : 0 CSM : 0 CSE : 1 ASE : 0 CSE : 1 CSM : 0 BSA : 0 CSA : 0 BRM : 0 ASM : 0 DSE : 0 ASE : 0 Total reward:  1\n"
     ]
    }
   ],
   "source": [
    "i = 1\n",
    "num_requests =  499 # 10000\n",
    "recommendations = 0\n",
    "reward = 0\n",
    "rewards = []\n",
    "count = []\n",
    "rankjsonobj = rankactionsjsonobj\n",
    "    \n",
    "namesopt = ['Alice', 'Bob', 'Cathy', 'Dave']\n",
    "weatheropt = ['Sunny', 'Rainy', 'Snowy']\n",
    "timeofdayopt = ['Morning', 'Afternoon', 'Evening']\n",
    "\n",
    "while(i <= num_requests):\n",
    "      \n",
    "    #create unique id to associate with an event\n",
    "    eventid = add_event_id(rankjsonobj)\n",
    "    \n",
    "    #generate a random sample\n",
    "    [name, weather, timeofday] = add_random_user_and_contextfeatures(namesopt, weatheropt, timeofdayopt, rankjsonobj)\n",
    "    \n",
    "    #add action features to rank\n",
    "    add_action_features(rankjsonobj) \n",
    "        \n",
    "    #choose an action\n",
    "    response = requests.post(personalization_rank_url, headers = headers, params = None, json = rankjsonobj)\n",
    "    if response.status_code //  100 != 2:\n",
    "        print(i, \"\\tBad context response: \", response.status_code)\n",
    "        \n",
    "    #compare personalization service recommendation with the simulated data to generate a reward value\n",
    "    prediction = json.dumps(response.json()[\"rewardActionId\"]).replace('\"','')\n",
    "    reward = get_reward_from_simulated_data(name, weather, timeofday, prediction)\n",
    "    print(summary_context( [name, weather, timeofday] ), ':', reward, end = ' ')\n",
    "    \n",
    "    #send the reward to the service \n",
    "    response = requests.post(personalization_reward_url + eventid + \"/reward\", headers = headers, params= None, json = { \"value\" : reward })\n",
    "    if response.status_code //  100 != 2:\n",
    "        print(i, \"\\tBad reward response: \", response.status_code)\n",
    "    #for every 10 rank request compute total correct recommendations \n",
    "    recommendations = recommendations + reward\n",
    "    \n",
    "    #wait (>5 mins) between sending more events to observe learning in the next batch\n",
    "    if(i % 500 == 0):\n",
    "        time.sleep(310) \n",
    "               \n",
    "    if(i % 10 == 0):\n",
    "        rewards.append(recommendations)\n",
    "        count.append(i)\n",
    "        recommendations = 0\n",
    "        \n",
    "    i = i + 1\n",
    "print(\"\\nTotal reward: \", recommendations)"
   ]
  },
  {
   "cell_type": "code",
   "execution_count": 18,
   "metadata": {
    "ExecuteTime": {
     "end_time": "2019-05-24T22:41:09.064751Z",
     "start_time": "2019-05-24T22:41:09.059750Z"
    }
   },
   "outputs": [
    {
     "data": {
      "text/plain": [
       "2"
      ]
     },
     "execution_count": 18,
     "metadata": {},
     "output_type": "execute_result"
    }
   ],
   "source": [
    "response.status_code // 100"
   ]
  },
  {
   "cell_type": "markdown",
   "metadata": {},
   "source": [
    "Plot total number of correct recommendations for every batch of 10 events."
   ]
  },
  {
   "cell_type": "code",
   "execution_count": 26,
   "metadata": {
    "ExecuteTime": {
     "end_time": "2019-05-24T22:52:23.316748Z",
     "start_time": "2019-05-24T22:52:23.169746Z"
    }
   },
   "outputs": [
    {
     "data": {
      "image/png": "[encoded data removed]",
      "text/plain": [
       "<Figure size 432x288 with 1 Axes>"
      ]
     },
     "metadata": {
      "needs_background": "light"
     },
     "output_type": "display_data"
    }
   ],
   "source": [
    "plt.plot(count, rewards)\n",
    "plt.xlabel(\"Batch of 10 rank events\")\n",
    "plt.ylabel(\"Correct recommendations per batch\")\n",
    "plt.show()"
   ]
  },
  {
   "cell_type": "markdown",
   "metadata": {},
   "source": [
    "From the above plot, you can observe that the ranking gets better after ~2000 events and performs well over ~80% of the time. Since, the exploration is set to 20%, 20% of the time the system still tries to explore the other options. See https://docs.microsoft.com/en-us/azure/cognitive-services/personalizer/ for more documentation."
   ]
  },
  {
   "cell_type": "code",
   "execution_count": null,
   "metadata": {},
   "outputs": [],
   "source": []
  }
 ],
 "metadata": {
  "kernelspec": {
   "display_name": "python36",
   "language": "python",
   "name": "python36"
  },
  "language_info": {
   "codemirror_mode": {
    "name": "ipython",
    "version": 3
   },
   "file_extension": ".py",
   "mimetype": "text/x-python",
   "name": "python",
   "nbconvert_exporter": "python",
   "pygments_lexer": "ipython3",
   "version": "3.6.7"
  }
 },
 "nbformat": 4,
 "nbformat_minor": 2
}
