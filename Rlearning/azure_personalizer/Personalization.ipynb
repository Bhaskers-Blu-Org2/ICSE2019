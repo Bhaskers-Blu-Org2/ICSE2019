{
 "cells": [
  {
   "cell_type": "markdown",
   "metadata": {},
   "source": [
    "# Cognitive Services Personalizer \n",
    "https://github.com/Azure-Samples/cognitive-services-personalizer-samples"
   ]
  },
  {
   "cell_type": "markdown",
   "metadata": {},
   "source": [
    "In this example, we will use Azure Personalizer Service to predict what Coffee a person (Alice, Bob, Cathy and Dave) prefers given the weather condition and time of day. File \"example.json\" contains their preferred choices of Coffee (set deterministically for the simplicity of this example). We will compare this data with the predictions from the service and generate rewards (0 or 1) based on the match and send it back to the service for training the model.\n",
    "\n",
    "Note that a model is exported every 5 minutes (current default) if you are using the Cognitive Services instance of the Personalizer service, so you need to wait at least until that time has expired then to actually observe some learning in the rewards returned. Exploration is set at 20%.\n",
    "\n",
    "Current implementation calls the Personalizer service through http calls. We will replace this with a python client in the future."
   ]
  },
  {
   "cell_type": "code",
   "execution_count": 2,
   "metadata": {
    "ExecuteTime": {
     "end_time": "2019-05-24T22:29:32.597311Z",
     "start_time": "2019-05-24T22:29:30.129143Z"
    }
   },
   "outputs": [],
   "source": [
    "import json\n",
    "import matplotlib.pyplot as plt\n",
    "import random \n",
    "import requests\n",
    "import time\n",
    "import uuid\n",
    "from pandas import DataFrame\n",
    "from Scipy import stats"
   ]
  },
  {
   "cell_type": "code",
   "execution_count": 4,
   "metadata": {
    "ExecuteTime": {
     "end_time": "2019-05-24T22:29:37.446320Z",
     "start_time": "2019-05-24T22:29:37.443323Z"
    }
   },
   "outputs": [],
   "source": [
    "# Replace 'personalization_base_url' and 'subscription_key' with your valid endpoint values.\n",
    "endpoint = \"https://westus2.api.cognitive.microsoft.com/\"\n",
    "personalization_base_url = endpoint # \"http://localhost:5000\"\n",
    "subscription_key = \"3a1ab38574454951a75eb7c9abfdd924\" "
   ]
  },
  {
   "cell_type": "code",
   "execution_count": 117,
   "metadata": {
    "ExecuteTime": {
     "end_time": "2019-05-24T22:29:42.564786Z",
     "start_time": "2019-05-24T22:29:42.546787Z"
    },
    "scrolled": true
   },
   "outputs": [],
   "source": [
    "personalization_rank_url = personalization_base_url + \"/personalizer/v1.0/rank\"\n",
    "personalization_reward_url = personalization_base_url + \"/personalizer/v1.0/events/\" #add \"{eventId}/reward\"\n",
    "headers = {'Ocp-Apim-Subscription-Key' : subscription_key, 'Content-Type': 'application/json'}\n",
    "\n",
    "examplepath = \"example.json\"\n",
    "requestpath = \"rankrequest.json\"\n",
    "actionfeaturespath = \"actionfeatures.json\"\n",
    "\n",
    "random.seed(time.time())\n",
    "\n",
    "userpref = None \n",
    "rankactionsjsonobj = None \n",
    "actionfeaturesobj = None\n",
    "\n",
    "with open(examplepath) as handle:\n",
    "    userpref = json.loads(handle.read())\n",
    "\n",
    "with open(requestpath) as handle:\n",
    "    rankactionsjsonobj = json.loads(handle.read())  \n",
    "    \n",
    "with open(actionfeaturespath) as handle:\n",
    "    actionfeaturesobj = json.loads(handle.read())"
   ]
  },
  {
   "cell_type": "code",
   "execution_count": 114,
   "metadata": {},
   "outputs": [
    {
     "data": {
      "text/html": [
       "<div>\n",
       "<style scoped>\n",
       "    .dataframe tbody tr th:only-of-type {\n",
       "        vertical-align: middle;\n",
       "    }\n",
       "\n",
       "    .dataframe tbody tr th {\n",
       "        vertical-align: top;\n",
       "    }\n",
       "\n",
       "    .dataframe thead th {\n",
       "        text-align: right;\n",
       "    }\n",
       "</style>\n",
       "<table border=\"1\" class=\"dataframe\">\n",
       "  <thead>\n",
       "    <tr style=\"text-align: right;\">\n",
       "      <th></th>\n",
       "      <th>Alice</th>\n",
       "      <th>Bob</th>\n",
       "      <th>Cathy</th>\n",
       "      <th>Dave</th>\n",
       "    </tr>\n",
       "  </thead>\n",
       "  <tbody>\n",
       "    <tr>\n",
       "      <th>Rainy</th>\n",
       "      <td>{'Morning': 'Latte', 'Afternoon': 'Cappucino',...</td>\n",
       "      <td>{'Morning': 'Latte', 'Afternoon': 'Latte', 'Ev...</td>\n",
       "      <td>{'Morning': 'Cappucino', 'Afternoon': 'Latte',...</td>\n",
       "      <td>{'Morning': 'Latte', 'Afternoon': 'Latte', 'Ev...</td>\n",
       "    </tr>\n",
       "    <tr>\n",
       "      <th>Snowy</th>\n",
       "      <td>{'Morning': 'Cappucino', 'Afternoon': 'Cappuci...</td>\n",
       "      <td>{'Morning': 'Iced mocha', 'Afternoon': 'Iced m...</td>\n",
       "      <td>{'Morning': 'Cold brew', 'Afternoon': 'Iced mo...</td>\n",
       "      <td>{'Morning': 'Cappucino', 'Afternoon': 'Cappuci...</td>\n",
       "    </tr>\n",
       "    <tr>\n",
       "      <th>Sunny</th>\n",
       "      <td>{'Morning': 'Cold brew', 'Afternoon': 'Iced mo...</td>\n",
       "      <td>{'Morning': 'Cappucino', 'Afternoon': 'Iced mo...</td>\n",
       "      <td>{'Morning': 'Latte', 'Afternoon': 'Cold brew',...</td>\n",
       "      <td>{'Morning': 'Iced mocha', 'Afternoon': 'Iced m...</td>\n",
       "    </tr>\n",
       "  </tbody>\n",
       "</table>\n",
       "</div>"
      ],
      "text/plain": [
       "                                                   Alice  \\\n",
       "Rainy  {'Morning': 'Latte', 'Afternoon': 'Cappucino',...   \n",
       "Snowy  {'Morning': 'Cappucino', 'Afternoon': 'Cappuci...   \n",
       "Sunny  {'Morning': 'Cold brew', 'Afternoon': 'Iced mo...   \n",
       "\n",
       "                                                     Bob  \\\n",
       "Rainy  {'Morning': 'Latte', 'Afternoon': 'Latte', 'Ev...   \n",
       "Snowy  {'Morning': 'Iced mocha', 'Afternoon': 'Iced m...   \n",
       "Sunny  {'Morning': 'Cappucino', 'Afternoon': 'Iced mo...   \n",
       "\n",
       "                                                   Cathy  \\\n",
       "Rainy  {'Morning': 'Cappucino', 'Afternoon': 'Latte',...   \n",
       "Snowy  {'Morning': 'Cold brew', 'Afternoon': 'Iced mo...   \n",
       "Sunny  {'Morning': 'Latte', 'Afternoon': 'Cold brew',...   \n",
       "\n",
       "                                                    Dave  \n",
       "Rainy  {'Morning': 'Latte', 'Afternoon': 'Latte', 'Ev...  \n",
       "Snowy  {'Morning': 'Cappucino', 'Afternoon': 'Cappuci...  \n",
       "Sunny  {'Morning': 'Iced mocha', 'Afternoon': 'Iced m...  "
      ]
     },
     "execution_count": 114,
     "metadata": {},
     "output_type": "execute_result"
    }
   ],
   "source": [
    "DataFrame(userpref)"
   ]
  },
  {
   "cell_type": "code",
   "execution_count": 125,
   "metadata": {},
   "outputs": [
    {
     "data": {
      "text/html": [
       "<div>\n",
       "<style scoped>\n",
       "    .dataframe tbody tr th:only-of-type {\n",
       "        vertical-align: middle;\n",
       "    }\n",
       "\n",
       "    .dataframe tbody tr th {\n",
       "        vertical-align: top;\n",
       "    }\n",
       "\n",
       "    .dataframe thead th {\n",
       "        text-align: right;\n",
       "    }\n",
       "</style>\n",
       "<table border=\"1\" class=\"dataframe\">\n",
       "  <thead>\n",
       "    <tr style=\"text-align: right;\">\n",
       "      <th></th>\n",
       "      <th>features</th>\n",
       "      <th>id</th>\n",
       "    </tr>\n",
       "  </thead>\n",
       "  <tbody>\n",
       "    <tr>\n",
       "      <th>0</th>\n",
       "      <td>[{'type': 'hot', 'origin': 'kenya', 'organic':...</td>\n",
       "      <td>Cappucino</td>\n",
       "    </tr>\n",
       "    <tr>\n",
       "      <th>1</th>\n",
       "      <td>[{'type': 'cold', 'origin': 'brazil', 'organic...</td>\n",
       "      <td>Cold brew</td>\n",
       "    </tr>\n",
       "    <tr>\n",
       "      <th>2</th>\n",
       "      <td>[{'type': 'cold', 'origin': 'ethiopia', 'organ...</td>\n",
       "      <td>Iced mocha</td>\n",
       "    </tr>\n",
       "    <tr>\n",
       "      <th>3</th>\n",
       "      <td>[{'type': 'hot', 'origin': 'brazil', 'organic'...</td>\n",
       "      <td>Latte</td>\n",
       "    </tr>\n",
       "  </tbody>\n",
       "</table>\n",
       "</div>"
      ],
      "text/plain": [
       "                                            features          id\n",
       "0  [{'type': 'hot', 'origin': 'kenya', 'organic':...   Cappucino\n",
       "1  [{'type': 'cold', 'origin': 'brazil', 'organic...   Cold brew\n",
       "2  [{'type': 'cold', 'origin': 'ethiopia', 'organ...  Iced mocha\n",
       "3  [{'type': 'hot', 'origin': 'brazil', 'organic'...       Latte"
      ]
     },
     "execution_count": 125,
     "metadata": {},
     "output_type": "execute_result"
    }
   ],
   "source": [
    "DataFrame(actionfeaturesobj)"
   ]
  },
  {
   "cell_type": "code",
   "execution_count": 74,
   "metadata": {
    "ExecuteTime": {
     "end_time": "2019-05-24T22:29:44.885362Z",
     "start_time": "2019-05-24T22:29:44.882360Z"
    }
   },
   "outputs": [],
   "source": [
    "def get_reward_from_simulated_data(name, weather, timeofday, prediction):\n",
    "    if(userpref[name][weather][timeofday] == str(prediction)):\n",
    "        return 1 \n",
    "    return 0"
   ]
  },
  {
   "cell_type": "code",
   "execution_count": 75,
   "metadata": {
    "ExecuteTime": {
     "end_time": "2019-05-24T22:29:45.726134Z",
     "start_time": "2019-05-24T22:29:45.722138Z"
    }
   },
   "outputs": [],
   "source": [
    "def create_event_id(rankjsonobj):\n",
    "    eventid = uuid.uuid4().hex\n",
    "    rankjsonobj[\"eventId\"] = eventid\n",
    "    return rankjsonobj, eventid"
   ]
  },
  {
   "cell_type": "code",
   "execution_count": 100,
   "metadata": {
    "ExecuteTime": {
     "end_time": "2019-05-24T22:29:46.439402Z",
     "start_time": "2019-05-24T22:29:46.434400Z"
    }
   },
   "outputs": [],
   "source": [
    "def add_random_features(rank_request):\n",
    "    'Fill the request fields with random name, weather and timeofday features.'\n",
    "    name = random.choice(namesopt)\n",
    "    weather = random.choice(weatheropt)\n",
    "    timeofday = random.choice(timeofdayopt)\n",
    "    rank_request['contextFeatures'] = [{'timeofday': timeofday, 'weather': weather, 'name': name}]\n",
    "    features = [name, weather, timeofday]\n",
    "    return rank_request, features"
   ]
  },
  {
   "cell_type": "code",
   "execution_count": 131,
   "metadata": {
    "ExecuteTime": {
     "end_time": "2019-05-24T22:29:47.501939Z",
     "start_time": "2019-05-24T22:29:47.497944Z"
    }
   },
   "outputs": [],
   "source": [
    "def add_action_features(rank_request):\n",
    "    rank_request[\"actions\"] = actionfeaturesobj[1:2]\n",
    "    return rank_request"
   ]
  },
  {
   "cell_type": "code",
   "execution_count": 78,
   "metadata": {
    "ExecuteTime": {
     "end_time": "2019-05-24T22:45:11.659740Z",
     "start_time": "2019-05-24T22:45:11.654740Z"
    }
   },
   "outputs": [],
   "source": [
    "def summary_context(c_vector):\n",
    "    'Moniker with the first letter of each context. To see the state at each step.'\n",
    "    first_ltr = [str(k[0]) for k in c_vector]\n",
    "    return ''.join(first_ltr)"
   ]
  },
  {
   "cell_type": "code",
   "execution_count": 147,
   "metadata": {
    "ExecuteTime": {
     "end_time": "2019-05-24T22:50:43.298655Z",
     "start_time": "2019-05-24T22:48:17.271387Z"
    }
   },
   "outputs": [],
   "source": [
    "# Reset the data\n",
    "recommendations = 0\n",
    "reward = 0\n",
    "rewards = []\n",
    "count = []\n",
    "icount = []\n",
    "irewards = []\n",
    "rankjsonobj = rankactionsjsonobj\n",
    "    \n",
    "namesopt = ['Alice', 'Bob', 'Cathy', 'Dave']\n",
    "weatheropt = ['Sunny', 'Rainy', 'Snowy']\n",
    "timeofdayopt = ['Morning', 'Afternoon', 'Evening']"
   ]
  },
  {
   "cell_type": "code",
   "execution_count": 137,
   "metadata": {
    "ExecuteTime": {
     "end_time": "2019-05-24T22:46:07.772233Z",
     "start_time": "2019-05-24T22:46:07.766238Z"
    }
   },
   "outputs": [
    {
     "data": {
      "text/plain": [
       "'CSA'"
      ]
     },
     "execution_count": 137,
     "metadata": {},
     "output_type": "execute_result"
    }
   ],
   "source": [
    "# Test random context generation\n",
    "_, xc = add_random_features(rankjsonobj)\n",
    "summary_context(xc)"
   ]
  },
  {
   "cell_type": "code",
   "execution_count": 151,
   "metadata": {
    "ExecuteTime": {
     "end_time": "2019-05-24T22:50:43.298655Z",
     "start_time": "2019-05-24T22:48:17.271387Z"
    }
   },
   "outputs": [
    {
     "name": "stdout",
     "output_type": "stream",
     "text": [
      "{'contextFeatures': [{'timeofday': 'Morning', 'weather': 'Snowy', 'name': 'Dave'}], 'actions': [{'id': 'Cold brew', 'features': [{'type': 'cold', 'origin': 'brazil', 'organic': 'yes', 'roast': 'light'}]}], 'excludedActions': [], 'eventId': '0bf1b73f92774bf396ff5a50c9a4d022', 'deferActivation': False}\n",
      "DSM:0  CRA:0  BSM:0  CSE:0  CSA:1  DRE:0  DRM:0  CSM:0  BRE:0  CSM:1  DRE:0  ASA:0  DSA:0  ASA:0  ASA:0  BSA:0  CSM:0  CRE:0  ARA:0  CSE:0  ASE:1  DSA:0  ASE:0  DSA:0  CRE:0  CSE:0  ARM:0  CRE:0  BRM:0  ARA:0  BSM:0  DSE:0  CRM:0  ASE:1  BSA:0  ASA:0  BSE:1  BSE:1  DSA:0  DRM:0  DRE:0  DSA:0  DRA:0  BRA:0  CSE:0  CRE:0  BSE:1  BSA:0  DRA:0  BSE:1  ASA:0  DRE:0  DSA:0  CSM:1  CSM:1  BRA:0  DSM:0  BSM:0  CSA:1  CSM:1  DSE:0  ARA:0  ASA:0  BRE:0  ASE:1  DRA:0  BRM:0  ASM:1  BSM:0  BRE:0  CRE:0  BSE:1  DSE:0  BSE:1  ASA:0  BSE:1  CSA:0  BSM:0  ARE:0  BRE:0  CRA:0  BRM:0  CSE:0  BRM:0  ASE:0  CSE:0  DSE:0  DRE:0  ARA:0  CSA:0  DRE:0  CRE:0  ARM:0  ASA:0  CSA:0  DRA:0  ASE:0  BSE:1  ASA:0  BSE:1  CSA:0  CSA:0  CRM:0  CRM:0  DSA:0  CSE:0  DSE:0  BRA:0  DSE:0  CSM:1  CRA:0  BSA:0  BRM:0  BRA:0  ARE:0  BSE:1  CRE:0  DRM:0  DSA:0  CRE:0  ARE:0  BSM:0  BSM:0  ASM:1  ARA:0  ASE:1  BRA:0  BSA:0  ASE:0  CSA:1  DSA:0  BSE:0  DSA:0  CRA:0  CRE:0  ASM:0  CRE:0  ASA:0  CSM:0  ARA:0  DRA:0  ASE:1  DSM:0  DSE:0  DSM:0  CSE:0  BRM:0  BRE:0  DRE:0  BSE:0  CSA:0  ARM:0  CRE:0  DSE:0  BRE:0  CSM:0  ARE:0  BRE:0  ASA:0  CSA:1  DSE:0  DRE:0  BRA:0  ASE:0  ASM:1  CSA:1  DRM:0  BSE:0  ARM:0  ASM:0  CRE:0  CSM:0  BSA:0  CRE:0  BSA:0  CSE:0  BRA:0  DSE:0  CSM:0  BSE:0  ASA:0  ASE:1  CSA:0  DSA:0  DSA:0  DSA:0  ARE:0  ARE:0  ARA:0  CSM:0  DSE:0  DSA:0  ASE:0  CSA:1  CSM:0  BSE:1  BSA:0  ASM:1  CSA:0  DSA:0  ASM:1  DSM:0  DRM:0  BRE:0  BSM:0  DSM:0  DSM:0  CSE:0  ARA:0  DSM:0  ARE:0  DSM:0  DRM:0  DSE:0  BSE:0  ARE:0  CSE:0  ASE:1  BSA:0  BSA:0  CSM:0  ARE:0  ASE:0  ASM:1  DRE:0  DSA:0  ASA:0  CSA:1  ASA:0  DSM:0  DRM:0  BSA:0  BRA:0  CSE:0  CRM:0  CSM:1  BSE:0  ASA:0  ASE:1  ASM:0  DSE:0  CSA:1  DSA:0  DSM:0  BRM:0  DSE:0  BSE:0  BRM:0  CSM:1  DRM:0  CSE:0  BRA:0  CRE:0  ASE:0  ASA:0  CSA:1  DSA:0  BRA:0  ASA:0  BSM:0  ASE:0  ASE:0  DRA:0  DSM:0  BSM:0  ASE:1  DRA:0  CRE:0  ASE:0  BSA:0  DSA:0  ASE:1  CSE:0  CSE:0  CSA:0  CSE:0  CSM:0  BSE:1  BRE:0  BSE:1  BSM:0  CSE:0  BSE:0  ASA:0  ASM:1  ASM:1  DRM:0  BRA:0  CRM:0  CSE:0  BSM:0  DSA:0  DRM:0  DSE:0  CSA:0  ASE:0  CSE:0  BSA:0  BSE:0  DSM:0  BSM:0  CSM:1  DSM:0  CRM:0  BSE:1  DRA:0  CRE:0  DSA:0  DRA:0  BRM:0  ARA:0  BRA:0  CSE:0  DSE:0  CSE:0  ARE:0  DSE:0  BSE:0  DRA:0  CRE:0  CRE:0  CRA:0  BRM:0  BSA:0  DRM:0  DRA:0  ARA:0  BSM:0  DSM:0  BSE:1  CRA:0  DSA:0  CSE:0  CSM:1  ASM:0  DRE:0  DSM:0  CSE:0  ARA:0  DSE:0  CRA:0  ASE:1  CSM:1  DSM:0  DSE:0  ARE:0  CRE:0  CSE:0  DRA:0  DSM:0  DSA:0  BRE:0  DRE:0  BSM:0  ASA:0  DSM:0  CSM:0  ARE:0  DSM:0  BSA:0  CSA:0  ARA:0  ASE:0  BSA:0  DRM:0  CSE:0  ARM:0  CSE:0  DRA:0  CSA:0  BSE:1  ASE:1  BSM:0  ARE:0  CSA:1  BSM:0  BRM:0  ASE:1  CSM:1  BSE:1  BRA:0  CRM:0  CRE:0  DSA:0  CRE:0  DSA:0  ARM:0  ARE:0  ASE:1  DSA:0  DRA:0  DSM:0  ASA:0  ARM:0  ASA:0  ASE:0  ASA:0  BSM:0  DSA:0  DSM:0  \n",
      "Generated 7000  rewards \n"
     ]
    }
   ],
   "source": [
    "num_requests =  4000 # 10000\n",
    "print( add_action_features(rankjsonobj))\n",
    "\n",
    "for i in range(num_requests):\n",
    "      \n",
    "    ## Fill in the rank-request object \n",
    "    #create unique id to associate with an event\n",
    "    rankjsonobj, eventid = create_event_id(rankjsonobj)\n",
    "    #generate random context\n",
    "    rankjsonobj, features = add_random_features(rankjsonobj)\n",
    "    [name, weather, timeofday] = features\n",
    "    #add the actions to be ranked\n",
    "    rankjsonobj = add_action_features(rankjsonobj)\n",
    "    #choose an action\n",
    "    response = requests.post(personalization_rank_url,\n",
    "                             headers = headers,\n",
    "                             params = None,\n",
    "                             json = rankjsonobj)\n",
    "    if response.status_code //  100 != 2:\n",
    "        print(i, \"\\tBad context response: \", response.status_code)\n",
    "        \n",
    "    #compare personalization service recommendation with the simulated data to generate a reward value\n",
    "    prediction = json.dumps(response.json()[\"rewardActionId\"]).replace('\"','')\n",
    "    reward = get_reward_from_simulated_data(name, weather, timeofday, prediction)\n",
    "    \n",
    "    #send the reward to the service \n",
    "    response = requests.post(personalization_reward_url + eventid + \"/reward\",\n",
    "                             headers = headers,\n",
    "                             params= None,\n",
    "                             json = { \"value\" : reward })\n",
    "    if response.status_code //  100 != 2:\n",
    "        print(i, \"\\tBad reward response: \", response.status_code)\n",
    "    #for every 10 rank request compute total correct recommendations \n",
    "    recommendations = recommendations + reward\n",
    "    \n",
    "    iplus = i + 1\n",
    "    #wait (>1 min) between sending more events to observe learning in the next batch\n",
    "    if(iplus % 500 == 0):\n",
    "        time.sleep(61) \n",
    "               \n",
    "    if(iplus % 10 == 0): \n",
    "        print(summary_context( [name, weather, timeofday] ), ':{0:d} '.format(reward), sep='', end = ' ')\n",
    "        rewards.append(recommendations)\n",
    "        count.append(i)\n",
    "        recommendations = 0\n",
    "\n",
    "print(\"\\nTotal of {}  rewards \".format(10* len(rewards)))"
   ]
  },
  {
   "cell_type": "markdown",
   "metadata": {},
   "source": [
    "Plot total number of correct recommendations for every batch of 10 events."
   ]
  },
  {
   "cell_type": "code",
   "execution_count": 152,
   "metadata": {},
   "outputs": [
    {
     "name": "stdout",
     "output_type": "stream",
     "text": [
      "-2.2944594990364723e-05\n"
     ]
    }
   ],
   "source": [
    "lm = stats.linregress(count, rewards)\n",
    "y = [lm.slope * c + lm.intercept for c in count]\n",
    "print(lm.slope)"
   ]
  },
  {
   "cell_type": "code",
   "execution_count": 153,
   "metadata": {
    "ExecuteTime": {
     "end_time": "2019-05-24T22:52:23.316748Z",
     "start_time": "2019-05-24T22:52:23.169746Z"
    }
   },
   "outputs": [
    {
     "data": {
      "image/png": "[encoded data removed]",
      "text/plain": [
       "<Figure size 432x288 with 1 Axes>"
      ]
     },
     "metadata": {
      "needs_background": "light"
     },
     "output_type": "display_data"
    }
   ],
   "source": [
    "\n",
    "plt.plot(count, rewards)\n",
    "plt.plot(count, y, '-')\n",
    "plt.xlabel(\"Batch of 10 rank events\")\n",
    "plt.ylabel(\"Correct recommendations per batch\")\n",
    "plt.show()"
   ]
  },
  {
   "cell_type": "markdown",
   "metadata": {},
   "source": [
    "From the above plot, you can observe that the ranking gets better after ~2000 events and performs well over ~80% of the time. Since, the exploration is set to 20%, 20% of the time the system still tries to explore the other options. See https://docs.microsoft.com/en-us/azure/cognitive-services/personalizer/ for more documentation."
   ]
  }
 ],
 "metadata": {
  "kernelspec": {
   "display_name": "Python [conda env:python36]",
   "language": "python",
   "name": "conda-env-python36-py"
  },
  "language_info": {
   "codemirror_mode": {
    "name": "ipython",
    "version": 3
   },
   "file_extension": ".py",
   "mimetype": "text/x-python",
   "name": "python",
   "nbconvert_exporter": "python",
   "pygments_lexer": "ipython3",
   "version": "3.6.5"
  }
 },
 "nbformat": 4,
 "nbformat_minor": 2
}
